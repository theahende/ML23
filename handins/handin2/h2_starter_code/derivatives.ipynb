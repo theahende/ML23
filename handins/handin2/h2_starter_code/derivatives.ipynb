{
 "cells": [
  {
   "cell_type": "markdown",
   "metadata": {},
   "source": [
    "$$W_1 =X^T (\\psi M_1) + 2\\lambda W_1 $$\n",
    "\n",
    "$$W_2 =c^T (\\pi M_1) + 2\\lambda W_2 $$\n",
    "\n",
    "$$b_1 = \\psi M_1$$\n",
    "\n",
    "$$b_2 = \\pi V_1$$\n",
    "\n",
    "$$\\pi = \\text{Blob given in assignment}$$\n",
    "\n",
    "$$\\psi = \\pi V_1 w_2^T \\cdot \\text{I}_{c>0}$$"
   ]
  }
 ],
 "metadata": {
  "language_info": {
   "name": "python"
  }
 },
 "nbformat": 4,
 "nbformat_minor": 2
}
